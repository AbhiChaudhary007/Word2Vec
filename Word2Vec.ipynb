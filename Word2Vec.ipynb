{
 "cells": [
  {
   "cell_type": "code",
   "execution_count": 1,
   "metadata": {
    "ExecuteTime": {
     "end_time": "2021-06-17T04:47:52.043224Z",
     "start_time": "2021-06-17T04:47:29.848072Z"
    }
   },
   "outputs": [],
   "source": [
    "import pandas as pd\n",
    "import re\n",
    "from nltk.corpus import stopwords\n",
    "from nltk.stem import WordNetLemmatizer\n",
    "from gensim.models import Word2Vec\n",
    "from sklearn.decomposition import PCA\n",
    "import matplotlib.pyplot as plt"
   ]
  },
  {
   "cell_type": "code",
   "execution_count": 35,
   "metadata": {
    "ExecuteTime": {
     "end_time": "2021-06-17T05:05:05.241290Z",
     "start_time": "2021-06-17T05:05:05.016235Z"
    }
   },
   "outputs": [],
   "source": [
    "data = pd.read_csv('simpsons_dataset.csv')"
   ]
  },
  {
   "cell_type": "code",
   "execution_count": 20,
   "metadata": {
    "ExecuteTime": {
     "end_time": "2021-06-17T05:00:27.921739Z",
     "start_time": "2021-06-17T05:00:27.910402Z"
    }
   },
   "outputs": [
    {
     "data": {
      "text/html": [
       "<div>\n",
       "<style scoped>\n",
       "    .dataframe tbody tr th:only-of-type {\n",
       "        vertical-align: middle;\n",
       "    }\n",
       "\n",
       "    .dataframe tbody tr th {\n",
       "        vertical-align: top;\n",
       "    }\n",
       "\n",
       "    .dataframe thead th {\n",
       "        text-align: right;\n",
       "    }\n",
       "</style>\n",
       "<table border=\"1\" class=\"dataframe\">\n",
       "  <thead>\n",
       "    <tr style=\"text-align: right;\">\n",
       "      <th></th>\n",
       "      <th>raw_character_text</th>\n",
       "      <th>spoken_words</th>\n",
       "    </tr>\n",
       "  </thead>\n",
       "  <tbody>\n",
       "    <tr>\n",
       "      <th>0</th>\n",
       "      <td>Miss Hoover</td>\n",
       "      <td>No, actually, it was a little of both. Sometim...</td>\n",
       "    </tr>\n",
       "    <tr>\n",
       "      <th>1</th>\n",
       "      <td>Lisa Simpson</td>\n",
       "      <td>Where's Mr. Bergstrom?</td>\n",
       "    </tr>\n",
       "    <tr>\n",
       "      <th>2</th>\n",
       "      <td>Miss Hoover</td>\n",
       "      <td>I don't know. Although I'd sure like to talk t...</td>\n",
       "    </tr>\n",
       "    <tr>\n",
       "      <th>3</th>\n",
       "      <td>Lisa Simpson</td>\n",
       "      <td>That life is worth living.</td>\n",
       "    </tr>\n",
       "    <tr>\n",
       "      <th>4</th>\n",
       "      <td>Edna Krabappel-Flanders</td>\n",
       "      <td>The polls will be open from now until the end ...</td>\n",
       "    </tr>\n",
       "  </tbody>\n",
       "</table>\n",
       "</div>"
      ],
      "text/plain": [
       "        raw_character_text                                       spoken_words\n",
       "0              Miss Hoover  No, actually, it was a little of both. Sometim...\n",
       "1             Lisa Simpson                             Where's Mr. Bergstrom?\n",
       "2              Miss Hoover  I don't know. Although I'd sure like to talk t...\n",
       "3             Lisa Simpson                         That life is worth living.\n",
       "4  Edna Krabappel-Flanders  The polls will be open from now until the end ..."
      ]
     },
     "execution_count": 20,
     "metadata": {},
     "output_type": "execute_result"
    }
   ],
   "source": [
    "data.head()"
   ]
  },
  {
   "cell_type": "code",
   "execution_count": 38,
   "metadata": {
    "ExecuteTime": {
     "end_time": "2021-06-17T05:05:18.967706Z",
     "start_time": "2021-06-17T05:05:18.872404Z"
    }
   },
   "outputs": [
    {
     "data": {
      "text/plain": [
       "5207"
      ]
     },
     "execution_count": 38,
     "metadata": {},
     "output_type": "execute_result"
    }
   ],
   "source": [
    "data.duplicated().sum()"
   ]
  },
  {
   "cell_type": "code",
   "execution_count": 39,
   "metadata": {
    "ExecuteTime": {
     "end_time": "2021-06-17T05:05:20.461761Z",
     "start_time": "2021-06-17T05:05:20.367300Z"
    }
   },
   "outputs": [],
   "source": [
    "data.drop_duplicates(inplace=True)"
   ]
  },
  {
   "cell_type": "code",
   "execution_count": 40,
   "metadata": {
    "ExecuteTime": {
     "end_time": "2021-06-17T05:05:20.938298Z",
     "start_time": "2021-06-17T05:05:20.926869Z"
    }
   },
   "outputs": [
    {
     "data": {
      "text/plain": [
       "(126646, 2)"
      ]
     },
     "execution_count": 40,
     "metadata": {},
     "output_type": "execute_result"
    }
   ],
   "source": [
    "data.shape"
   ]
  },
  {
   "cell_type": "code",
   "execution_count": 36,
   "metadata": {
    "ExecuteTime": {
     "end_time": "2021-06-17T05:05:10.610516Z",
     "start_time": "2021-06-17T05:05:10.575163Z"
    }
   },
   "outputs": [
    {
     "data": {
      "text/plain": [
       "raw_character_text    17814\n",
       "spoken_words          26459\n",
       "dtype: int64"
      ]
     },
     "execution_count": 36,
     "metadata": {},
     "output_type": "execute_result"
    }
   ],
   "source": [
    "data.isnull().sum()"
   ]
  },
  {
   "cell_type": "code",
   "execution_count": 37,
   "metadata": {
    "ExecuteTime": {
     "end_time": "2021-06-17T05:05:13.817525Z",
     "start_time": "2021-06-17T05:05:13.767128Z"
    }
   },
   "outputs": [],
   "source": [
    "data.dropna(inplace=True)"
   ]
  },
  {
   "cell_type": "code",
   "execution_count": 28,
   "metadata": {
    "ExecuteTime": {
     "end_time": "2021-06-17T05:01:39.045868Z",
     "start_time": "2021-06-17T05:01:39.013816Z"
    }
   },
   "outputs": [
    {
     "data": {
      "text/plain": [
       "raw_character_text    0\n",
       "spoken_words          0\n",
       "dtype: int64"
      ]
     },
     "execution_count": 28,
     "metadata": {},
     "output_type": "execute_result"
    }
   ],
   "source": [
    "data.isnull().sum()"
   ]
  },
  {
   "cell_type": "code",
   "execution_count": 41,
   "metadata": {
    "ExecuteTime": {
     "end_time": "2021-06-17T05:05:24.971994Z",
     "start_time": "2021-06-17T05:05:24.956247Z"
    }
   },
   "outputs": [
    {
     "data": {
      "text/plain": [
       "(126646, 2)"
      ]
     },
     "execution_count": 41,
     "metadata": {},
     "output_type": "execute_result"
    }
   ],
   "source": [
    "data.shape"
   ]
  },
  {
   "cell_type": "code",
   "execution_count": 42,
   "metadata": {
    "ExecuteTime": {
     "end_time": "2021-06-17T05:05:26.919157Z",
     "start_time": "2021-06-17T05:05:26.895691Z"
    }
   },
   "outputs": [
    {
     "data": {
      "text/html": [
       "<div>\n",
       "<style scoped>\n",
       "    .dataframe tbody tr th:only-of-type {\n",
       "        vertical-align: middle;\n",
       "    }\n",
       "\n",
       "    .dataframe tbody tr th {\n",
       "        vertical-align: top;\n",
       "    }\n",
       "\n",
       "    .dataframe thead th {\n",
       "        text-align: right;\n",
       "    }\n",
       "</style>\n",
       "<table border=\"1\" class=\"dataframe\">\n",
       "  <thead>\n",
       "    <tr style=\"text-align: right;\">\n",
       "      <th></th>\n",
       "      <th>raw_character_text</th>\n",
       "      <th>spoken_words</th>\n",
       "    </tr>\n",
       "  </thead>\n",
       "  <tbody>\n",
       "    <tr>\n",
       "      <th>0</th>\n",
       "      <td>Miss Hoover</td>\n",
       "      <td>No, actually, it was a little of both. Sometim...</td>\n",
       "    </tr>\n",
       "    <tr>\n",
       "      <th>1</th>\n",
       "      <td>Lisa Simpson</td>\n",
       "      <td>Where's Mr. Bergstrom?</td>\n",
       "    </tr>\n",
       "    <tr>\n",
       "      <th>2</th>\n",
       "      <td>Miss Hoover</td>\n",
       "      <td>I don't know. Although I'd sure like to talk t...</td>\n",
       "    </tr>\n",
       "    <tr>\n",
       "      <th>3</th>\n",
       "      <td>Lisa Simpson</td>\n",
       "      <td>That life is worth living.</td>\n",
       "    </tr>\n",
       "    <tr>\n",
       "      <th>4</th>\n",
       "      <td>Edna Krabappel-Flanders</td>\n",
       "      <td>The polls will be open from now until the end ...</td>\n",
       "    </tr>\n",
       "    <tr>\n",
       "      <th>5</th>\n",
       "      <td>Martin Prince</td>\n",
       "      <td>I don't think there's anything left to say.</td>\n",
       "    </tr>\n",
       "    <tr>\n",
       "      <th>6</th>\n",
       "      <td>Edna Krabappel-Flanders</td>\n",
       "      <td>Bart?</td>\n",
       "    </tr>\n",
       "    <tr>\n",
       "      <th>7</th>\n",
       "      <td>Bart Simpson</td>\n",
       "      <td>Victory party under the slide!</td>\n",
       "    </tr>\n",
       "    <tr>\n",
       "      <th>9</th>\n",
       "      <td>Lisa Simpson</td>\n",
       "      <td>Mr. Bergstrom! Mr. Bergstrom!</td>\n",
       "    </tr>\n",
       "    <tr>\n",
       "      <th>10</th>\n",
       "      <td>Landlady</td>\n",
       "      <td>Hey, hey, he Moved out this morning. He must h...</td>\n",
       "    </tr>\n",
       "    <tr>\n",
       "      <th>11</th>\n",
       "      <td>Lisa Simpson</td>\n",
       "      <td>Do you know where I could find him?</td>\n",
       "    </tr>\n",
       "    <tr>\n",
       "      <th>12</th>\n",
       "      <td>Landlady</td>\n",
       "      <td>I think he's taking the next train to Capital ...</td>\n",
       "    </tr>\n",
       "    <tr>\n",
       "      <th>13</th>\n",
       "      <td>Lisa Simpson</td>\n",
       "      <td>The train, how like him... traditional, yet en...</td>\n",
       "    </tr>\n",
       "    <tr>\n",
       "      <th>14</th>\n",
       "      <td>Landlady</td>\n",
       "      <td>Yes, and it's been the backbone of our country...</td>\n",
       "    </tr>\n",
       "    <tr>\n",
       "      <th>15</th>\n",
       "      <td>Lisa Simpson</td>\n",
       "      <td>I see he touched you, too.</td>\n",
       "    </tr>\n",
       "    <tr>\n",
       "      <th>17</th>\n",
       "      <td>Bart Simpson</td>\n",
       "      <td>Hey, thanks for your vote, man.</td>\n",
       "    </tr>\n",
       "    <tr>\n",
       "      <th>18</th>\n",
       "      <td>Nelson Muntz</td>\n",
       "      <td>I didn't vote. Voting's for geeks.</td>\n",
       "    </tr>\n",
       "    <tr>\n",
       "      <th>19</th>\n",
       "      <td>Bart Simpson</td>\n",
       "      <td>Well, you got that right. Thanks for your vote...</td>\n",
       "    </tr>\n",
       "    <tr>\n",
       "      <th>20</th>\n",
       "      <td>Terri/sherri</td>\n",
       "      <td>We forgot.</td>\n",
       "    </tr>\n",
       "    <tr>\n",
       "      <th>21</th>\n",
       "      <td>Bart Simpson</td>\n",
       "      <td>Well, don't sweat it. Just so long as a couple...</td>\n",
       "    </tr>\n",
       "    <tr>\n",
       "      <th>22</th>\n",
       "      <td>Milhouse Van Houten</td>\n",
       "      <td>Uh oh.</td>\n",
       "    </tr>\n",
       "    <tr>\n",
       "      <th>23</th>\n",
       "      <td>Bart Simpson</td>\n",
       "      <td>Lewis?</td>\n",
       "    </tr>\n",
       "    <tr>\n",
       "      <th>24</th>\n",
       "      <td>Bart Simpson</td>\n",
       "      <td>Somebody must have voted.</td>\n",
       "    </tr>\n",
       "    <tr>\n",
       "      <th>25</th>\n",
       "      <td>Milhouse Van Houten</td>\n",
       "      <td>What about you, Bart? Didn't you vote?</td>\n",
       "    </tr>\n",
       "    <tr>\n",
       "      <th>26</th>\n",
       "      <td>Bart Simpson</td>\n",
       "      <td>Uh oh.</td>\n",
       "    </tr>\n",
       "    <tr>\n",
       "      <th>28</th>\n",
       "      <td>Wendell Borton</td>\n",
       "      <td>Yayyyyyyyyyyyyyy!</td>\n",
       "    </tr>\n",
       "    <tr>\n",
       "      <th>30</th>\n",
       "      <td>Bart Simpson</td>\n",
       "      <td>I demand a recount.</td>\n",
       "    </tr>\n",
       "    <tr>\n",
       "      <th>31</th>\n",
       "      <td>Edna Krabappel-Flanders</td>\n",
       "      <td>One for Martin, two for Martin. Would you like...</td>\n",
       "    </tr>\n",
       "    <tr>\n",
       "      <th>32</th>\n",
       "      <td>Bart Simpson</td>\n",
       "      <td>No.</td>\n",
       "    </tr>\n",
       "    <tr>\n",
       "      <th>33</th>\n",
       "      <td>Edna Krabappel-Flanders</td>\n",
       "      <td>Well, I just want to make sure. One for Martin...</td>\n",
       "    </tr>\n",
       "    <tr>\n",
       "      <th>34</th>\n",
       "      <td>Kid Reporter</td>\n",
       "      <td>This way, Mister President!</td>\n",
       "    </tr>\n",
       "    <tr>\n",
       "      <th>36</th>\n",
       "      <td>Conductor</td>\n",
       "      <td>Now boarding on track 5, The afternoon delight...</td>\n",
       "    </tr>\n",
       "    <tr>\n",
       "      <th>37</th>\n",
       "      <td>Lisa Simpson</td>\n",
       "      <td>Mr. Bergstrom! Hey, Mr. Bergstrom!</td>\n",
       "    </tr>\n",
       "    <tr>\n",
       "      <th>38</th>\n",
       "      <td>BERGSTROM</td>\n",
       "      <td>Hey, Lisa.</td>\n",
       "    </tr>\n",
       "    <tr>\n",
       "      <th>39</th>\n",
       "      <td>Lisa Simpson</td>\n",
       "      <td>Hey, Lisa, indeed.</td>\n",
       "    </tr>\n",
       "    <tr>\n",
       "      <th>40</th>\n",
       "      <td>BERGSTROM</td>\n",
       "      <td>What? What is it?</td>\n",
       "    </tr>\n",
       "    <tr>\n",
       "      <th>41</th>\n",
       "      <td>Lisa Simpson</td>\n",
       "      <td>Oh, I mean, were you just going to leave, just...</td>\n",
       "    </tr>\n",
       "    <tr>\n",
       "      <th>42</th>\n",
       "      <td>BERGSTROM</td>\n",
       "      <td>Ah, I'm sorry, Lisa. You know, it's the life o...</td>\n",
       "    </tr>\n",
       "    <tr>\n",
       "      <th>43</th>\n",
       "      <td>Lisa Simpson</td>\n",
       "      <td>You can't go! You're the best teacher I'll eve...</td>\n",
       "    </tr>\n",
       "    <tr>\n",
       "      <th>44</th>\n",
       "      <td>BERGSTROM</td>\n",
       "      <td>Ah, that's not true. Other teachers will come ...</td>\n",
       "    </tr>\n",
       "    <tr>\n",
       "      <th>45</th>\n",
       "      <td>Lisa Simpson</td>\n",
       "      <td>Oh, please.</td>\n",
       "    </tr>\n",
       "    <tr>\n",
       "      <th>46</th>\n",
       "      <td>BERGSTROM</td>\n",
       "      <td>No, I can't lie to you, I am the best. But, yo...</td>\n",
       "    </tr>\n",
       "    <tr>\n",
       "      <th>47</th>\n",
       "      <td>Lisa Simpson</td>\n",
       "      <td>But I need you too.</td>\n",
       "    </tr>\n",
       "    <tr>\n",
       "      <th>48</th>\n",
       "      <td>BERGSTROM</td>\n",
       "      <td>That's the problem with being middle class. An...</td>\n",
       "    </tr>\n",
       "    <tr>\n",
       "      <th>49</th>\n",
       "      <td>Lisa Simpson</td>\n",
       "      <td>I, I understand. Mr. Bergstrom, I'm going to m...</td>\n",
       "    </tr>\n",
       "    <tr>\n",
       "      <th>50</th>\n",
       "      <td>BERGSTROM</td>\n",
       "      <td>I'll tell you what...</td>\n",
       "    </tr>\n",
       "    <tr>\n",
       "      <th>51</th>\n",
       "      <td>BERGSTROM</td>\n",
       "      <td>Whenever you feel like you're alone and there'...</td>\n",
       "    </tr>\n",
       "    <tr>\n",
       "      <th>52</th>\n",
       "      <td>Lisa Simpson</td>\n",
       "      <td>Thank you, Mr. Bergstrom.</td>\n",
       "    </tr>\n",
       "    <tr>\n",
       "      <th>53</th>\n",
       "      <td>Conductor</td>\n",
       "      <td>All aboard!</td>\n",
       "    </tr>\n",
       "    <tr>\n",
       "      <th>54</th>\n",
       "      <td>Lisa Simpson</td>\n",
       "      <td>So, I guess this is it? It you don't mind I'll...</td>\n",
       "    </tr>\n",
       "  </tbody>\n",
       "</table>\n",
       "</div>"
      ],
      "text/plain": [
       "         raw_character_text                                       spoken_words\n",
       "0               Miss Hoover  No, actually, it was a little of both. Sometim...\n",
       "1              Lisa Simpson                             Where's Mr. Bergstrom?\n",
       "2               Miss Hoover  I don't know. Although I'd sure like to talk t...\n",
       "3              Lisa Simpson                         That life is worth living.\n",
       "4   Edna Krabappel-Flanders  The polls will be open from now until the end ...\n",
       "5             Martin Prince        I don't think there's anything left to say.\n",
       "6   Edna Krabappel-Flanders                                              Bart?\n",
       "7              Bart Simpson                     Victory party under the slide!\n",
       "9              Lisa Simpson                      Mr. Bergstrom! Mr. Bergstrom!\n",
       "10                 Landlady  Hey, hey, he Moved out this morning. He must h...\n",
       "11             Lisa Simpson                Do you know where I could find him?\n",
       "12                 Landlady  I think he's taking the next train to Capital ...\n",
       "13             Lisa Simpson  The train, how like him... traditional, yet en...\n",
       "14                 Landlady  Yes, and it's been the backbone of our country...\n",
       "15             Lisa Simpson                         I see he touched you, too.\n",
       "17             Bart Simpson                    Hey, thanks for your vote, man.\n",
       "18             Nelson Muntz                 I didn't vote. Voting's for geeks.\n",
       "19             Bart Simpson  Well, you got that right. Thanks for your vote...\n",
       "20             Terri/sherri                                         We forgot.\n",
       "21             Bart Simpson  Well, don't sweat it. Just so long as a couple...\n",
       "22      Milhouse Van Houten                                             Uh oh.\n",
       "23             Bart Simpson                                             Lewis?\n",
       "24             Bart Simpson                          Somebody must have voted.\n",
       "25      Milhouse Van Houten             What about you, Bart? Didn't you vote?\n",
       "26             Bart Simpson                                             Uh oh.\n",
       "28           Wendell Borton                                  Yayyyyyyyyyyyyyy!\n",
       "30             Bart Simpson                                I demand a recount.\n",
       "31  Edna Krabappel-Flanders  One for Martin, two for Martin. Would you like...\n",
       "32             Bart Simpson                                                No.\n",
       "33  Edna Krabappel-Flanders  Well, I just want to make sure. One for Martin...\n",
       "34             Kid Reporter                        This way, Mister President!\n",
       "36                Conductor  Now boarding on track 5, The afternoon delight...\n",
       "37             Lisa Simpson                 Mr. Bergstrom! Hey, Mr. Bergstrom!\n",
       "38                BERGSTROM                                         Hey, Lisa.\n",
       "39             Lisa Simpson                                 Hey, Lisa, indeed.\n",
       "40                BERGSTROM                                  What? What is it?\n",
       "41             Lisa Simpson  Oh, I mean, were you just going to leave, just...\n",
       "42                BERGSTROM  Ah, I'm sorry, Lisa. You know, it's the life o...\n",
       "43             Lisa Simpson  You can't go! You're the best teacher I'll eve...\n",
       "44                BERGSTROM  Ah, that's not true. Other teachers will come ...\n",
       "45             Lisa Simpson                                        Oh, please.\n",
       "46                BERGSTROM  No, I can't lie to you, I am the best. But, yo...\n",
       "47             Lisa Simpson                                But I need you too.\n",
       "48                BERGSTROM  That's the problem with being middle class. An...\n",
       "49             Lisa Simpson  I, I understand. Mr. Bergstrom, I'm going to m...\n",
       "50                BERGSTROM                              I'll tell you what...\n",
       "51                BERGSTROM  Whenever you feel like you're alone and there'...\n",
       "52             Lisa Simpson                          Thank you, Mr. Bergstrom.\n",
       "53                Conductor                                        All aboard!\n",
       "54             Lisa Simpson  So, I guess this is it? It you don't mind I'll..."
      ]
     },
     "execution_count": 42,
     "metadata": {},
     "output_type": "execute_result"
    }
   ],
   "source": [
    "data.head(50)"
   ]
  },
  {
   "cell_type": "code",
   "execution_count": 43,
   "metadata": {
    "ExecuteTime": {
     "end_time": "2021-06-17T05:06:08.952357Z",
     "start_time": "2021-06-17T05:06:08.940857Z"
    }
   },
   "outputs": [],
   "source": [
    "sw = stopwords.words('english')\n",
    "lem = WordNetLemmatizer()\n",
    "\n",
    "def clean(text):\n",
    "    text = text.lower()\n",
    "    text = re.sub(r'[^a-zA-Z]',' ',text)\n",
    "    text = re.sub(r'\\b\\w{1}\\b','',text)\n",
    "    text = re.sub(r'\\s+',' ',text)\n",
    "    text = [lem.lemmatize(words) for words in text.split() if words not in sw]\n",
    "    return text"
   ]
  },
  {
   "cell_type": "code",
   "execution_count": 44,
   "metadata": {
    "ExecuteTime": {
     "end_time": "2021-06-17T05:06:56.458067Z",
     "start_time": "2021-06-17T05:06:45.473491Z"
    }
   },
   "outputs": [],
   "source": [
    "data['spoken_words'] = data['spoken_words'].apply(lambda x:clean(x))"
   ]
  },
  {
   "cell_type": "code",
   "execution_count": 45,
   "metadata": {
    "ExecuteTime": {
     "end_time": "2021-06-17T05:07:03.239027Z",
     "start_time": "2021-06-17T05:07:03.203011Z"
    }
   },
   "outputs": [
    {
     "data": {
      "text/plain": [
       "raw_character_text    0\n",
       "spoken_words          0\n",
       "dtype: int64"
      ]
     },
     "execution_count": 45,
     "metadata": {},
     "output_type": "execute_result"
    }
   ],
   "source": [
    "data.isnull().sum()"
   ]
  },
  {
   "cell_type": "code",
   "execution_count": 46,
   "metadata": {
    "ExecuteTime": {
     "end_time": "2021-06-17T05:07:04.111967Z",
     "start_time": "2021-06-17T05:07:04.070317Z"
    }
   },
   "outputs": [
    {
     "data": {
      "text/html": [
       "<div>\n",
       "<style scoped>\n",
       "    .dataframe tbody tr th:only-of-type {\n",
       "        vertical-align: middle;\n",
       "    }\n",
       "\n",
       "    .dataframe tbody tr th {\n",
       "        vertical-align: top;\n",
       "    }\n",
       "\n",
       "    .dataframe thead th {\n",
       "        text-align: right;\n",
       "    }\n",
       "</style>\n",
       "<table border=\"1\" class=\"dataframe\">\n",
       "  <thead>\n",
       "    <tr style=\"text-align: right;\">\n",
       "      <th></th>\n",
       "      <th>raw_character_text</th>\n",
       "      <th>spoken_words</th>\n",
       "    </tr>\n",
       "  </thead>\n",
       "  <tbody>\n",
       "    <tr>\n",
       "      <th>0</th>\n",
       "      <td>Miss Hoover</td>\n",
       "      <td>[actually, little, sometimes, disease, magazin...</td>\n",
       "    </tr>\n",
       "    <tr>\n",
       "      <th>1</th>\n",
       "      <td>Lisa Simpson</td>\n",
       "      <td>[mr, bergstrom]</td>\n",
       "    </tr>\n",
       "    <tr>\n",
       "      <th>2</th>\n",
       "      <td>Miss Hoover</td>\n",
       "      <td>[know, although, sure, like, talk, touch, less...</td>\n",
       "    </tr>\n",
       "    <tr>\n",
       "      <th>3</th>\n",
       "      <td>Lisa Simpson</td>\n",
       "      <td>[life, worth, living]</td>\n",
       "    </tr>\n",
       "    <tr>\n",
       "      <th>4</th>\n",
       "      <td>Edna Krabappel-Flanders</td>\n",
       "      <td>[poll, open, end, recess, case, decided, put, ...</td>\n",
       "    </tr>\n",
       "    <tr>\n",
       "      <th>5</th>\n",
       "      <td>Martin Prince</td>\n",
       "      <td>[think, anything, left, say]</td>\n",
       "    </tr>\n",
       "    <tr>\n",
       "      <th>6</th>\n",
       "      <td>Edna Krabappel-Flanders</td>\n",
       "      <td>[bart]</td>\n",
       "    </tr>\n",
       "    <tr>\n",
       "      <th>7</th>\n",
       "      <td>Bart Simpson</td>\n",
       "      <td>[victory, party, slide]</td>\n",
       "    </tr>\n",
       "    <tr>\n",
       "      <th>9</th>\n",
       "      <td>Lisa Simpson</td>\n",
       "      <td>[mr, bergstrom, mr, bergstrom]</td>\n",
       "    </tr>\n",
       "    <tr>\n",
       "      <th>10</th>\n",
       "      <td>Landlady</td>\n",
       "      <td>[hey, hey, moved, morning, must, new, job, too...</td>\n",
       "    </tr>\n",
       "    <tr>\n",
       "      <th>11</th>\n",
       "      <td>Lisa Simpson</td>\n",
       "      <td>[know, could, find]</td>\n",
       "    </tr>\n",
       "    <tr>\n",
       "      <th>12</th>\n",
       "      <td>Landlady</td>\n",
       "      <td>[think, taking, next, train, capital, city]</td>\n",
       "    </tr>\n",
       "    <tr>\n",
       "      <th>13</th>\n",
       "      <td>Lisa Simpson</td>\n",
       "      <td>[train, like, traditional, yet, environmentall...</td>\n",
       "    </tr>\n",
       "    <tr>\n",
       "      <th>14</th>\n",
       "      <td>Landlady</td>\n",
       "      <td>[yes, backbone, country, since, leland, stanfo...</td>\n",
       "    </tr>\n",
       "    <tr>\n",
       "      <th>15</th>\n",
       "      <td>Lisa Simpson</td>\n",
       "      <td>[see, touched]</td>\n",
       "    </tr>\n",
       "    <tr>\n",
       "      <th>17</th>\n",
       "      <td>Bart Simpson</td>\n",
       "      <td>[hey, thanks, vote, man]</td>\n",
       "    </tr>\n",
       "    <tr>\n",
       "      <th>18</th>\n",
       "      <td>Nelson Muntz</td>\n",
       "      <td>[vote, voting, geek]</td>\n",
       "    </tr>\n",
       "    <tr>\n",
       "      <th>19</th>\n",
       "      <td>Bart Simpson</td>\n",
       "      <td>[well, got, right, thanks, vote, girl]</td>\n",
       "    </tr>\n",
       "    <tr>\n",
       "      <th>20</th>\n",
       "      <td>Terri/sherri</td>\n",
       "      <td>[forgot]</td>\n",
       "    </tr>\n",
       "    <tr>\n",
       "      <th>21</th>\n",
       "      <td>Bart Simpson</td>\n",
       "      <td>[well, sweat, long, couple, people, right, mil...</td>\n",
       "    </tr>\n",
       "    <tr>\n",
       "      <th>22</th>\n",
       "      <td>Milhouse Van Houten</td>\n",
       "      <td>[uh, oh]</td>\n",
       "    </tr>\n",
       "    <tr>\n",
       "      <th>23</th>\n",
       "      <td>Bart Simpson</td>\n",
       "      <td>[lewis]</td>\n",
       "    </tr>\n",
       "    <tr>\n",
       "      <th>24</th>\n",
       "      <td>Bart Simpson</td>\n",
       "      <td>[somebody, must, voted]</td>\n",
       "    </tr>\n",
       "    <tr>\n",
       "      <th>25</th>\n",
       "      <td>Milhouse Van Houten</td>\n",
       "      <td>[bart, vote]</td>\n",
       "    </tr>\n",
       "    <tr>\n",
       "      <th>26</th>\n",
       "      <td>Bart Simpson</td>\n",
       "      <td>[uh, oh]</td>\n",
       "    </tr>\n",
       "    <tr>\n",
       "      <th>28</th>\n",
       "      <td>Wendell Borton</td>\n",
       "      <td>[yayyyyyyyyyyyyyy]</td>\n",
       "    </tr>\n",
       "    <tr>\n",
       "      <th>30</th>\n",
       "      <td>Bart Simpson</td>\n",
       "      <td>[demand, recount]</td>\n",
       "    </tr>\n",
       "    <tr>\n",
       "      <th>31</th>\n",
       "      <td>Edna Krabappel-Flanders</td>\n",
       "      <td>[one, martin, two, martin, would, like, anothe...</td>\n",
       "    </tr>\n",
       "    <tr>\n",
       "      <th>32</th>\n",
       "      <td>Bart Simpson</td>\n",
       "      <td>[]</td>\n",
       "    </tr>\n",
       "    <tr>\n",
       "      <th>33</th>\n",
       "      <td>Edna Krabappel-Flanders</td>\n",
       "      <td>[well, want, make, sure, one, martin, two, mar...</td>\n",
       "    </tr>\n",
       "    <tr>\n",
       "      <th>34</th>\n",
       "      <td>Kid Reporter</td>\n",
       "      <td>[way, mister, president]</td>\n",
       "    </tr>\n",
       "    <tr>\n",
       "      <th>36</th>\n",
       "      <td>Conductor</td>\n",
       "      <td>[boarding, track, afternoon, delight, coming, ...</td>\n",
       "    </tr>\n",
       "    <tr>\n",
       "      <th>37</th>\n",
       "      <td>Lisa Simpson</td>\n",
       "      <td>[mr, bergstrom, hey, mr, bergstrom]</td>\n",
       "    </tr>\n",
       "    <tr>\n",
       "      <th>38</th>\n",
       "      <td>BERGSTROM</td>\n",
       "      <td>[hey, lisa]</td>\n",
       "    </tr>\n",
       "    <tr>\n",
       "      <th>39</th>\n",
       "      <td>Lisa Simpson</td>\n",
       "      <td>[hey, lisa, indeed]</td>\n",
       "    </tr>\n",
       "    <tr>\n",
       "      <th>40</th>\n",
       "      <td>BERGSTROM</td>\n",
       "      <td>[]</td>\n",
       "    </tr>\n",
       "    <tr>\n",
       "      <th>41</th>\n",
       "      <td>Lisa Simpson</td>\n",
       "      <td>[oh, mean, going, leave, like]</td>\n",
       "    </tr>\n",
       "    <tr>\n",
       "      <th>42</th>\n",
       "      <td>BERGSTROM</td>\n",
       "      <td>[ah, sorry, lisa, know, life, substitute, teac...</td>\n",
       "    </tr>\n",
       "    <tr>\n",
       "      <th>43</th>\n",
       "      <td>Lisa Simpson</td>\n",
       "      <td>[go, best, teacher, ever]</td>\n",
       "    </tr>\n",
       "    <tr>\n",
       "      <th>44</th>\n",
       "      <td>BERGSTROM</td>\n",
       "      <td>[ah, true, teacher, come, along]</td>\n",
       "    </tr>\n",
       "    <tr>\n",
       "      <th>45</th>\n",
       "      <td>Lisa Simpson</td>\n",
       "      <td>[oh, please]</td>\n",
       "    </tr>\n",
       "    <tr>\n",
       "      <th>46</th>\n",
       "      <td>BERGSTROM</td>\n",
       "      <td>[lie, best, know, need, project, capital, city]</td>\n",
       "    </tr>\n",
       "    <tr>\n",
       "      <th>47</th>\n",
       "      <td>Lisa Simpson</td>\n",
       "      <td>[need]</td>\n",
       "    </tr>\n",
       "    <tr>\n",
       "      <th>48</th>\n",
       "      <td>BERGSTROM</td>\n",
       "      <td>[problem, middle, class, anybody, really, care...</td>\n",
       "    </tr>\n",
       "    <tr>\n",
       "      <th>49</th>\n",
       "      <td>Lisa Simpson</td>\n",
       "      <td>[understand, mr, bergstrom, going, miss]</td>\n",
       "    </tr>\n",
       "    <tr>\n",
       "      <th>50</th>\n",
       "      <td>BERGSTROM</td>\n",
       "      <td>[tell]</td>\n",
       "    </tr>\n",
       "    <tr>\n",
       "      <th>51</th>\n",
       "      <td>BERGSTROM</td>\n",
       "      <td>[whenever, feel, like, alone, nobody, rely, ne...</td>\n",
       "    </tr>\n",
       "    <tr>\n",
       "      <th>52</th>\n",
       "      <td>Lisa Simpson</td>\n",
       "      <td>[thank, mr, bergstrom]</td>\n",
       "    </tr>\n",
       "    <tr>\n",
       "      <th>53</th>\n",
       "      <td>Conductor</td>\n",
       "      <td>[aboard]</td>\n",
       "    </tr>\n",
       "    <tr>\n",
       "      <th>54</th>\n",
       "      <td>Lisa Simpson</td>\n",
       "      <td>[guess, mind, run, alongside, train, speed, life]</td>\n",
       "    </tr>\n",
       "  </tbody>\n",
       "</table>\n",
       "</div>"
      ],
      "text/plain": [
       "         raw_character_text                                       spoken_words\n",
       "0               Miss Hoover  [actually, little, sometimes, disease, magazin...\n",
       "1              Lisa Simpson                                    [mr, bergstrom]\n",
       "2               Miss Hoover  [know, although, sure, like, talk, touch, less...\n",
       "3              Lisa Simpson                              [life, worth, living]\n",
       "4   Edna Krabappel-Flanders  [poll, open, end, recess, case, decided, put, ...\n",
       "5             Martin Prince                       [think, anything, left, say]\n",
       "6   Edna Krabappel-Flanders                                             [bart]\n",
       "7              Bart Simpson                            [victory, party, slide]\n",
       "9              Lisa Simpson                     [mr, bergstrom, mr, bergstrom]\n",
       "10                 Landlady  [hey, hey, moved, morning, must, new, job, too...\n",
       "11             Lisa Simpson                                [know, could, find]\n",
       "12                 Landlady        [think, taking, next, train, capital, city]\n",
       "13             Lisa Simpson  [train, like, traditional, yet, environmentall...\n",
       "14                 Landlady  [yes, backbone, country, since, leland, stanfo...\n",
       "15             Lisa Simpson                                     [see, touched]\n",
       "17             Bart Simpson                           [hey, thanks, vote, man]\n",
       "18             Nelson Muntz                               [vote, voting, geek]\n",
       "19             Bart Simpson             [well, got, right, thanks, vote, girl]\n",
       "20             Terri/sherri                                           [forgot]\n",
       "21             Bart Simpson  [well, sweat, long, couple, people, right, mil...\n",
       "22      Milhouse Van Houten                                           [uh, oh]\n",
       "23             Bart Simpson                                            [lewis]\n",
       "24             Bart Simpson                            [somebody, must, voted]\n",
       "25      Milhouse Van Houten                                       [bart, vote]\n",
       "26             Bart Simpson                                           [uh, oh]\n",
       "28           Wendell Borton                                 [yayyyyyyyyyyyyyy]\n",
       "30             Bart Simpson                                  [demand, recount]\n",
       "31  Edna Krabappel-Flanders  [one, martin, two, martin, would, like, anothe...\n",
       "32             Bart Simpson                                                 []\n",
       "33  Edna Krabappel-Flanders  [well, want, make, sure, one, martin, two, mar...\n",
       "34             Kid Reporter                           [way, mister, president]\n",
       "36                Conductor  [boarding, track, afternoon, delight, coming, ...\n",
       "37             Lisa Simpson                [mr, bergstrom, hey, mr, bergstrom]\n",
       "38                BERGSTROM                                        [hey, lisa]\n",
       "39             Lisa Simpson                                [hey, lisa, indeed]\n",
       "40                BERGSTROM                                                 []\n",
       "41             Lisa Simpson                     [oh, mean, going, leave, like]\n",
       "42                BERGSTROM  [ah, sorry, lisa, know, life, substitute, teac...\n",
       "43             Lisa Simpson                          [go, best, teacher, ever]\n",
       "44                BERGSTROM                   [ah, true, teacher, come, along]\n",
       "45             Lisa Simpson                                       [oh, please]\n",
       "46                BERGSTROM    [lie, best, know, need, project, capital, city]\n",
       "47             Lisa Simpson                                             [need]\n",
       "48                BERGSTROM  [problem, middle, class, anybody, really, care...\n",
       "49             Lisa Simpson           [understand, mr, bergstrom, going, miss]\n",
       "50                BERGSTROM                                             [tell]\n",
       "51                BERGSTROM  [whenever, feel, like, alone, nobody, rely, ne...\n",
       "52             Lisa Simpson                             [thank, mr, bergstrom]\n",
       "53                Conductor                                           [aboard]\n",
       "54             Lisa Simpson  [guess, mind, run, alongside, train, speed, life]"
      ]
     },
     "execution_count": 46,
     "metadata": {},
     "output_type": "execute_result"
    }
   ],
   "source": [
    "data.head(50)"
   ]
  },
  {
   "cell_type": "code",
   "execution_count": 47,
   "metadata": {
    "ExecuteTime": {
     "end_time": "2021-06-17T05:07:31.325999Z",
     "start_time": "2021-06-17T05:07:31.319642Z"
    }
   },
   "outputs": [],
   "source": [
    "data.reset_index(inplace=True,drop=True)"
   ]
  },
  {
   "cell_type": "code",
   "execution_count": 48,
   "metadata": {
    "ExecuteTime": {
     "end_time": "2021-06-17T05:07:31.649140Z",
     "start_time": "2021-06-17T05:07:31.633823Z"
    }
   },
   "outputs": [
    {
     "data": {
      "text/plain": [
       "Index(['raw_character_text', 'spoken_words'], dtype='object')"
      ]
     },
     "execution_count": 48,
     "metadata": {},
     "output_type": "execute_result"
    }
   ],
   "source": [
    "data.columns"
   ]
  },
  {
   "cell_type": "code",
   "execution_count": 49,
   "metadata": {
    "ExecuteTime": {
     "end_time": "2021-06-17T05:07:35.999181Z",
     "start_time": "2021-06-17T05:07:35.988210Z"
    }
   },
   "outputs": [
    {
     "data": {
      "text/plain": [
       "(126646, 2)"
      ]
     },
     "execution_count": 49,
     "metadata": {},
     "output_type": "execute_result"
    }
   ],
   "source": [
    "data.shape"
   ]
  },
  {
   "cell_type": "code",
   "execution_count": 50,
   "metadata": {
    "ExecuteTime": {
     "end_time": "2021-06-17T05:09:24.459523Z",
     "start_time": "2021-06-17T05:09:24.406856Z"
    }
   },
   "outputs": [],
   "source": [
    "sentence = data['spoken_words'].tolist()"
   ]
  },
  {
   "cell_type": "code",
   "execution_count": 51,
   "metadata": {
    "ExecuteTime": {
     "end_time": "2021-06-17T05:09:24.848861Z",
     "start_time": "2021-06-17T05:09:24.834894Z"
    }
   },
   "outputs": [
    {
     "data": {
      "text/plain": [
       "126646"
      ]
     },
     "execution_count": 51,
     "metadata": {},
     "output_type": "execute_result"
    }
   ],
   "source": [
    "len(sentence)"
   ]
  },
  {
   "cell_type": "code",
   "execution_count": 52,
   "metadata": {
    "ExecuteTime": {
     "end_time": "2021-06-17T05:09:30.713407Z",
     "start_time": "2021-06-17T05:09:26.747100Z"
    }
   },
   "outputs": [],
   "source": [
    "w2v = Word2Vec(sentences=sentence,\n",
    "                     min_count=20,\n",
    "                     window=2,\n",
    "                     sample=6e-5, \n",
    "                     alpha=0.03, \n",
    "                     min_alpha=0.0007, \n",
    "                     negative=20)"
   ]
  },
  {
   "cell_type": "code",
   "execution_count": 72,
   "metadata": {
    "ExecuteTime": {
     "end_time": "2021-06-17T16:01:17.107517Z",
     "start_time": "2021-06-17T16:01:16.788897Z"
    }
   },
   "outputs": [],
   "source": [
    "w2v.save('w2v.h5')"
   ]
  },
  {
   "cell_type": "code",
   "execution_count": 53,
   "metadata": {
    "ExecuteTime": {
     "end_time": "2021-06-17T05:09:30.728181Z",
     "start_time": "2021-06-17T05:09:30.713407Z"
    }
   },
   "outputs": [
    {
     "data": {
      "text/plain": [
       "126646"
      ]
     },
     "execution_count": 53,
     "metadata": {},
     "output_type": "execute_result"
    }
   ],
   "source": [
    "w2v.corpus_count"
   ]
  },
  {
   "cell_type": "code",
   "execution_count": 54,
   "metadata": {
    "ExecuteTime": {
     "end_time": "2021-06-17T05:09:30.743141Z",
     "start_time": "2021-06-17T05:09:30.732169Z"
    }
   },
   "outputs": [],
   "source": [
    "X = w2v.wv.index_to_key"
   ]
  },
  {
   "cell_type": "code",
   "execution_count": 55,
   "metadata": {
    "ExecuteTime": {
     "end_time": "2021-06-17T05:09:36.115256Z",
     "start_time": "2021-06-17T05:09:36.102539Z"
    }
   },
   "outputs": [
    {
     "data": {
      "text/plain": [
       "3804"
      ]
     },
     "execution_count": 55,
     "metadata": {},
     "output_type": "execute_result"
    }
   ],
   "source": [
    "len(X)"
   ]
  },
  {
   "cell_type": "code",
   "execution_count": 17,
   "metadata": {
    "ExecuteTime": {
     "end_time": "2021-06-17T04:48:48.315010Z",
     "start_time": "2021-06-17T04:48:48.283600Z"
    }
   },
   "outputs": [],
   "source": [
    "y = w2v.wv[X]"
   ]
  },
  {
   "cell_type": "code",
   "execution_count": 52,
   "metadata": {
    "ExecuteTime": {
     "end_time": "2021-06-16T15:56:27.387552Z",
     "start_time": "2021-06-16T15:56:27.224608Z"
    }
   },
   "outputs": [],
   "source": [
    "pc = PCA(n_components=2)\n",
    "result = pc.fit_transform(y)"
   ]
  },
  {
   "cell_type": "code",
   "execution_count": 54,
   "metadata": {
    "ExecuteTime": {
     "end_time": "2021-06-16T15:59:33.847425Z",
     "start_time": "2021-06-16T15:59:33.837486Z"
    }
   },
   "outputs": [
    {
     "data": {
      "text/plain": [
       "array([[-2.2488168e-02, -1.1559102e-03],\n",
       "       [-9.3922643e-03,  4.7666801e-04],\n",
       "       [-1.6811268e-02,  2.1724417e-03],\n",
       "       ...,\n",
       "       [ 1.8918341e-02,  8.4056528e-03],\n",
       "       [ 2.1092586e-02,  1.2560648e-02],\n",
       "       [-6.0689174e-05,  5.0108572e-03]], dtype=float32)"
      ]
     },
     "execution_count": 54,
     "metadata": {},
     "output_type": "execute_result"
    }
   ],
   "source": [
    "result"
   ]
  },
  {
   "cell_type": "code",
   "execution_count": 59,
   "metadata": {
    "ExecuteTime": {
     "end_time": "2021-06-17T05:10:32.265820Z",
     "start_time": "2021-06-17T05:10:32.245672Z"
    }
   },
   "outputs": [
    {
     "data": {
      "text/plain": [
       "[('something', 0.9989799857139587),\n",
       " ('homer', 0.998867928981781),\n",
       " ('part', 0.9988269209861755)]"
      ]
     },
     "execution_count": 59,
     "metadata": {},
     "output_type": "execute_result"
    }
   ],
   "source": [
    "w2v.wv.most_similar(positive=[\"bart\"], topn=3)"
   ]
  },
  {
   "cell_type": "code",
   "execution_count": 71,
   "metadata": {
    "ExecuteTime": {
     "end_time": "2021-06-17T05:26:20.795241Z",
     "start_time": "2021-06-17T05:26:20.710156Z"
    }
   },
   "outputs": [
    {
     "data": {
      "text/plain": [
       "6                                                    [bart]\n",
       "23                                             [bart, vote]\n",
       "52        [bart, get, one, vote, oh, worst, thing, ever,...\n",
       "135                                            [bart, come]\n",
       "139                                     [bart, thing, cute]\n",
       "                                ...                        \n",
       "126533    [child, bart, need, someone, reliable, deliver...\n",
       "126536    [people, told, encouraging, bart, win, approva...\n",
       "126537                                          [yay, bart]\n",
       "126581    [popularity, contest, excuse, important, popul...\n",
       "126637                                               [bart]\n",
       "Name: spoken_words, Length: 3312, dtype: object"
      ]
     },
     "execution_count": 71,
     "metadata": {},
     "output_type": "execute_result"
    }
   ],
   "source": [
    "data[data.spoken_words.str.contains('bart', regex=False)].spoken_words"
   ]
  },
  {
   "cell_type": "code",
   "execution_count": null,
   "metadata": {},
   "outputs": [],
   "source": []
  }
 ],
 "metadata": {
  "kernelspec": {
   "display_name": "Python 3",
   "language": "python",
   "name": "python3"
  },
  "language_info": {
   "codemirror_mode": {
    "name": "ipython",
    "version": 3
   },
   "file_extension": ".py",
   "mimetype": "text/x-python",
   "name": "python",
   "nbconvert_exporter": "python",
   "pygments_lexer": "ipython3",
   "version": "3.8.3"
  }
 },
 "nbformat": 4,
 "nbformat_minor": 4
}
